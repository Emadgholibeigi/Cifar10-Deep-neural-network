{
 "cells": [
  {
   "cell_type": "code",
   "execution_count": null,
   "id": "ac26f4c8",
   "metadata": {},
   "outputs": [],
   "source": [
    "#Emad Gholibeigi"
   ]
  },
  {
   "cell_type": "code",
   "execution_count": null,
   "id": "732380de",
   "metadata": {},
   "outputs": [],
   "source": [
    "# make convolotion layers\n",
    "from keras.layers import Conv2D , Dense , Dropout , Flatten , MaxPooling2D ,BatchNormalization\n",
    "# to make sequential model\n",
    "from keras.models import Sequential\n",
    "# import cifar10 dataset\n",
    "from keras.datasets import cifar10\n",
    "import tensorflow as tf\n",
    "import numpy as np                                \n",
    "import matplotlib.pyplot as plt\n",
    "import keras as k\n",
    "from keras.optimizers import SGD, Adam\n",
    "from keras.regularizers import l2\n",
    "import h5py\n",
    "from keras.models import load_model\n",
    "from keras.preprocessing.image import ImageDataGenerator\n",
    "import scipy as scipy"
   ]
  },
  {
   "cell_type": "code",
   "execution_count": null,
   "id": "ba356e47",
   "metadata": {},
   "outputs": [],
   "source": [
    "from random import randrange"
   ]
  },
  {
   "cell_type": "code",
   "execution_count": null,
   "id": "fbdf1f9d",
   "metadata": {},
   "outputs": [],
   "source": [
    "from keras.utils import np_utils as cat"
   ]
  },
  {
   "cell_type": "code",
   "execution_count": null,
   "id": "c4aaf79a",
   "metadata": {},
   "outputs": [],
   "source": [
    "( x_train , y_train ) , ( x_test , y_test ) = cifar10.load_data()\n",
    "img_rows, img_cols , channels= 32,32,3"
   ]
  },
  {
   "cell_type": "code",
   "execution_count": null,
   "id": "3d66babc",
   "metadata": {},
   "outputs": [],
   "source": [
    "# set up image augmentation\n",
    "datagen = ImageDataGenerator(\n",
    "    rotation_range=20,\n",
    "    horizontal_flip=True,\n",
    "    width_shift_range=0.15,\n",
    "    height_shift_range=0.15\n",
    "    #zoom_range=0.3\n",
    "    )\n",
    "datagen.fit(x_train)"
   ]
  },
  {
   "cell_type": "code",
   "execution_count": null,
   "id": "4c921047",
   "metadata": {},
   "outputs": [],
   "source": [
    "#reshape into images\n",
    "x_train = x_train.reshape(x_train.shape[0], img_rows, img_cols, channels)\n",
    "x_test = x_test.reshape(x_test.shape[0], img_rows, img_cols, channels)\n",
    "input_shape = (img_rows, img_cols, 1)\n",
    "print('x_train shape:', x_train.shape)\n",
    "print(x_train.shape[0], 'train samples')\n",
    "print(x_test.shape[0], 'test samples')"
   ]
  },
  {
   "cell_type": "code",
   "execution_count": null,
   "id": "398c08e1",
   "metadata": {},
   "outputs": [],
   "source": [
    "# labels\n",
    "num_classes=10\n",
    "y_train = k.utils.to_categorical(y_train, num_classes)\n",
    "y_test = k.utils.to_categorical(y_test, num_classes)"
   ]
  },
  {
   "cell_type": "code",
   "execution_count": null,
   "id": "0107b7d7",
   "metadata": {},
   "outputs": [],
   "source": [
    "# plotting helper function\n",
    "def plothist(hist):\n",
    "    plt.plot(hist.history['accuracy'])\n",
    "    plt.plot(hist.history['val_accuracy'])\n",
    "    plt.title('model accuracy')\n",
    "    plt.ylabel('accuracy')\n",
    "    plt.xlabel('epoch')\n",
    "    plt.legend(['train', 'test'], loc='upper left')\n",
    "    plt.show()"
   ]
  },
  {
   "cell_type": "code",
   "execution_count": null,
   "id": "baf0372a",
   "metadata": {},
   "outputs": [],
   "source": [
    "#convert integers to float; normalise and center the mean\n",
    "x_train=x_train.astype(\"float32\")  \n",
    "x_test=x_test.astype(\"float32\")\n",
    "mean=np.mean(x_train)\n",
    "std=np.std(x_train)\n",
    "x_test=(x_test-mean)/std\n",
    "x_train=(x_train-mean)/std"
   ]
  },
  {
   "cell_type": "code",
   "execution_count": null,
   "id": "b6924c39",
   "metadata": {},
   "outputs": [],
   "source": [
    "reg2=None\n",
    "num_filters2=32\n",
    "ac2='relu'\n",
    "adm2=Adam(learning_rate=0.0025, epsilon=1e-08)\n",
    "opt=adm2\n",
    "drop_dense2=0.5\n",
    "drop_conv2=0.2\n",
    "\n",
    "model = Sequential()\n",
    "\n",
    "model.add(Conv2D(num_filters2, (3, 3), activation=k.layers.LeakyReLU(alpha=0.01),\n",
    "                 kernel_regularizer=reg2, input_shape=(img_rows, img_cols, channels),padding='same'))\n",
    "model.add(BatchNormalization(axis=-1))\n",
    "model.add(Conv2D(num_filters2, (3, 3), activation=k.layers.LeakyReLU(alpha=0.01),kernel_regularizer=reg2,padding='same'))\n",
    "model.add(BatchNormalization(axis=-1))\n",
    "model.add(MaxPooling2D(pool_size=(2, 2)))   # reduces to 16x16x3xnum_filters\n",
    "model.add(Dropout(drop_conv2))\n",
    "\n",
    "model.add(BatchNormalization(axis=-1))\n",
    "model.add(Conv2D(2*num_filters2, (3, 3), activation=k.layers.LeakyReLU(alpha=0.01),kernel_regularizer=reg2,padding='same'))\n",
    "model.add(BatchNormalization(axis=-1))\n",
    "model.add(Conv2D(2*num_filters2, (3, 3), activation=k.layers.LeakyReLU(alpha=0.01),kernel_regularizer=reg2,padding='same'))\n",
    "model.add(BatchNormalization(axis=-1))\n",
    "model.add(MaxPooling2D(pool_size=(2, 2)))  # reduces to 8x8x3x(2*num_filters)\n",
    "model.add(Dropout(drop_conv2))\n",
    "\n",
    "model.add(BatchNormalization(axis=-1))\n",
    "model.add(Conv2D(4*num_filters2, (3, 3), activation=k.layers.LeakyReLU(alpha=0.01),kernel_regularizer=reg2,padding='same'))\n",
    "model.add(BatchNormalization(axis=-1))\n",
    "model.add(Conv2D(4*num_filters2, (3, 3), activation=k.layers.LeakyReLU(alpha=0.01),kernel_regularizer=reg2,padding='same'))\n",
    "model.add(BatchNormalization(axis=-1))  \n",
    "model.add(MaxPooling2D(pool_size=(2, 2)))  # reduces to 4x4x3x(4*num_filters)\n",
    "model.add(Dropout(drop_conv2))\n",
    "\n",
    "model.add(BatchNormalization(axis=-1))\n",
    "model.add(Conv2D(8*num_filters2, (3, 3), activation=k.layers.LeakyReLU(alpha=0.01),kernel_regularizer=reg2,padding='same'))\n",
    "model.add(BatchNormalization(axis=-1))\n",
    "model.add(Conv2D(8*num_filters2, (3, 3), activation=k.layers.LeakyReLU(alpha=0.01),kernel_regularizer=reg2,padding='same'))\n",
    "model.add(BatchNormalization(axis=-1)) \n",
    "model.add(MaxPooling2D(pool_size=(2, 2)))  # reduces to 2x2x3x(8*num_filters)\n",
    "model.add(Dropout(drop_conv2))\n",
    "\n",
    "model.add(Flatten())\n",
    "model.add(Dense(1024, activation=k.layers.LeakyReLU(alpha=0.01),kernel_regularizer=reg2))\n",
    "model.add(Dropout(drop_dense2))\n",
    "model.add(Dense(512, activation=k.layers.LeakyReLU(alpha=0.01),kernel_regularizer=reg2))\n",
    "model.add(Dropout(drop_dense2))\n",
    "model.add(BatchNormalization(axis=-1))\n",
    "model.add(Dense(num_classes, activation='softmax'))\n",
    "\n",
    "model.compile(loss='categorical_crossentropy', metrics=['accuracy'],optimizer=opt)\n",
    "model.summary()"
   ]
  },
  {
   "cell_type": "code",
   "execution_count": null,
   "id": "f819696a",
   "metadata": {},
   "outputs": [],
   "source": [
    "# train without image augmentation\n",
    "history2=model.fit(x_train,y_train,batch_size=128,epochs=5,\n",
    "                   validation_data=(x_test, y_test),shuffle=True\n",
    ")\n"
   ]
  },
  {
   "cell_type": "code",
   "execution_count": null,
   "id": "c137c7b6",
   "metadata": {},
   "outputs": [],
   "source": [
    "# train with image augmentation\n",
    "history2=model.fit(datagen.flow(x_train,y_train),batch_size=128,epochs=2,\n",
    "                   validation_data=(x_test, y_test),shuffle=True\n",
    ")\n"
   ]
  },
  {
   "cell_type": "code",
   "execution_count": null,
   "id": "6ad75b8a",
   "metadata": {},
   "outputs": [],
   "source": [
    "plothist(history2)"
   ]
  },
  {
   "cell_type": "code",
   "execution_count": null,
   "id": "9de805ed",
   "metadata": {},
   "outputs": [],
   "source": [
    "model.evaluate(x_test,y_test,batch_size=32)"
   ]
  }
 ],
 "metadata": {
  "kernelspec": {
   "display_name": "gpu2",
   "language": "python",
   "name": "gpu2"
  },
  "language_info": {
   "codemirror_mode": {
    "name": "ipython",
    "version": 3
   },
   "file_extension": ".py",
   "mimetype": "text/x-python",
   "name": "python",
   "nbconvert_exporter": "python",
   "pygments_lexer": "ipython3",
   "version": "3.9.12"
  }
 },
 "nbformat": 4,
 "nbformat_minor": 5
}
